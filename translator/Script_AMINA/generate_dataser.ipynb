{
 "cells": [
  {
   "cell_type": "code",
   "execution_count": 12,
   "metadata": {},
   "outputs": [
    {
     "name": "stdout",
     "output_type": "stream",
     "text": [
      "./sub_csv/req_not_in_st.csv\n",
      "./sub_csv/one_st_m_re.csv\n",
      "./sub_csv/req_not_in_st.csv\n",
      "./sub_csv/one_st_m_re.csv\n",
      "./sub_csv/one_st_m_re.csv\n"
     ]
    }
   ],
   "source": [
    "import pandas as pd\n",
    "import dotenv  \n",
    "import os\n",
    "from utils import *\n",
    "\n",
    "dotenv.load_dotenv()\n",
    "\n",
    "one_re_to_many_st = os.getenv(\"ONE_RE_M_ST\")\n",
    "one_st_to_many_re = os.getenv(\"ONE_ST_M_RE\")\n",
    "not_tested_req = os.getenv(\"NOT_TESTED_REQ\")\n",
    "one_to_one_test = os.getenv(\"ONE_TO_ONE_ST\")\n",
    "one_to_one_req_df = os.getenv(\"ONE_TO_ONE_REQ\")\n",
    "\n",
    "print(one_re_to_many_st)\n",
    "print(one_st_to_many_re)\n",
    "print(not_tested_req)\n",
    "print(one_to_one_test)\n",
    "print(one_to_one_req_df)\n",
    "\n",
    "#Creatae df \n",
    "\n",
    "one_re_m_st_df = pd.read_csv(one_re_to_many_st)\n",
    "one_st_m_re_df = pd.read_csv(one_st_to_many_re)\n",
    "not_tested_df = pd.read_csv(not_tested_req)\n",
    "one_to_one_t_df = pd.read_csv(one_to_one_test)\n",
    "one_to_one_req_df = pd.read_csv(one_to_one_req_df)"
   ]
  },
  {
   "cell_type": "code",
   "execution_count": 13,
   "metadata": {},
   "outputs": [
    {
     "name": "stdout",
     "output_type": "stream",
     "text": [
      "./new_ds/re_12.csv\n",
      "./new_ds/st_12.csv\n",
      "    ID GE_KravID\n",
      "0  389        S5\n",
      "1  447       S63\n",
      "2  453       S69\n",
      "3  501      S117\n",
      "4  509      S125\n",
      "5  601      S217\n",
      "6  614      S230\n",
      "7  616      S232\n",
      "8  631      S247\n",
      "9  759      B113\n",
      "\n",
      "\n",
      "\n",
      "     ID GE_KravID\n",
      "0    19      S230\n",
      "1    26      S232\n",
      "2    26      B113\n",
      "3    39        S5\n",
      "4    39        B2\n",
      "5    40        S5\n",
      "6    40        B2\n",
      "7    41        S5\n",
      "8    41        B2\n",
      "9    50      S117\n",
      "10   50      S217\n",
      "11  200      S125\n",
      "12  376       S63\n",
      "13  437       S69\n",
      "14  439       S69\n"
     ]
    }
   ],
   "source": [
    "#Existing data set extract \n",
    "re_e_path = os.getenv(\"E_RE\")\n",
    "st_e_path = os.getenv(\"E_S\")\n",
    "print(re_e_path)\n",
    "print(st_e_path)\n",
    "re_df = pd.read_csv(re_e_path)\n",
    "st_df = pd.read_csv(st_e_path)\n",
    "\n",
    "id = 'ID'\n",
    "re = 'GE_KravID'\n",
    "be = 'Beskrivning'\n",
    "\n",
    "print(re_df[[id,re]])\n",
    "print(\"\\n\\n\")\n",
    "print(st_df[[id,re]])"
   ]
  },
  {
   "cell_type": "code",
   "execution_count": 14,
   "metadata": {},
   "outputs": [
    {
     "name": "stdout",
     "output_type": "stream",
     "text": [
      "RE (re) list length unique: 10, actual length: 10\n",
      "ST (id) list length unique: 10,actual length: 15\n"
     ]
    }
   ],
   "source": [
    "re_list_re = re_df[re].unique().tolist()\n",
    "st_list_id = st_df[id].unique().tolist() \n",
    "print(f'RE (re) list length unique: {len(re_list_re)}, actual length: {len(re_df)}')\n",
    "print(f'ST (id) list length unique: {len(st_list_id)},actual length: {len(st_df)}')"
   ]
  },
  {
   "cell_type": "markdown",
   "metadata": {},
   "source": [
    "**SET NEW DATA SET PROPERTIES**"
   ]
  },
  {
   "cell_type": "code",
   "execution_count": 18,
   "metadata": {},
   "outputs": [
    {
     "name": "stdout",
     "output_type": "stream",
     "text": [
      "one_to_one:  29\n"
     ]
    }
   ],
   "source": [
    "re_wanted = 40\n",
    "\n",
    "re_1_M_st = 5\n",
    "st_1_M_re = 5\n",
    "not_tested_req = 1\n",
    "one_to_one_t_df = re_wanted - re_1_M_st - st_1_M_re - not_tested_req\n",
    "print(\"one_to_one: \", one_to_one_t_df)"
   ]
  },
  {
   "cell_type": "markdown",
   "metadata": {},
   "source": [
    "**FUNCTIONS**"
   ]
  },
  {
   "cell_type": "code",
   "execution_count": null,
   "metadata": {},
   "outputs": [],
   "source": [
    "def get_last_column_with_value(df):\n",
    "    non_empty_columns = df.columns[df.notna().any()].tolist()\n",
    "    last_index = df.columns.get_loc(non_empty_columns[-1]) if non_empty_columns else None\n",
    "    return last_index"
   ]
  },
  {
   "cell_type": "code",
   "execution_count": null,
   "metadata": {},
   "outputs": [],
   "source": [
    "import random\n",
    "\n",
    "def get_random_re(df):\n",
    "    last_index = get_last_column_with_value(df)\n",
    "    random_index = random.randint(0, last_index)\n",
    "    random_req = df.iloc[random_index][re]\n",
    "    return random_req"
   ]
  },
  {
   "cell_type": "markdown",
   "metadata": {},
   "source": [
    "**One RE to Many ST**"
   ]
  },
  {
   "cell_type": "code",
   "execution_count": null,
   "metadata": {},
   "outputs": [],
   "source": []
  }
 ],
 "metadata": {
  "kernelspec": {
   "display_name": "env310",
   "language": "python",
   "name": "python3"
  },
  "language_info": {
   "codemirror_mode": {
    "name": "ipython",
    "version": 3
   },
   "file_extension": ".py",
   "mimetype": "text/x-python",
   "name": "python",
   "nbconvert_exporter": "python",
   "pygments_lexer": "ipython3",
   "version": "3.10.13"
  }
 },
 "nbformat": 4,
 "nbformat_minor": 2
}
